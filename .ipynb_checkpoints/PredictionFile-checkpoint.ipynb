{
 "cells": [
  {
   "cell_type": "code",
   "execution_count": 4,
   "id": "ef132d8d",
   "metadata": {},
   "outputs": [],
   "source": [
    "import pickle\n",
    "import numpy as np\n",
    "import pandas as pd\n",
    "\n",
    "with open('Customer_Segmentation_Model.pkl','rb')as file:\n",
    "    Model=pickle.load(file)"
   ]
  },
  {
   "cell_type": "code",
   "execution_count": 8,
   "id": "636df0a7",
   "metadata": {},
   "outputs": [],
   "source": [
    "# Function for finding customer segment\n",
    "from sklearn.preprocessing import StandardScaler\n",
    "def get_customer_Segment():\n",
    "    Channel=int(input(\"Enter Channel (1,2) :\"))\n",
    "    Region=int(input(\"Enter Region (1,2,3) :\"))\n",
    "    Fresh=int(input(\"Enter annual spending on Fresh products :\"))\n",
    "    Milk=int(input(\"Enter annual spending on Milk :\"))\n",
    "    Grocery=int(input(\"Enter annual spending on Grocery :\"))\n",
    "    Frozen=int(input(\"Enter annual spending on Frozen products :\"))\n",
    "    Detergent_Paper=int(input(\"Enetr annual spending on Detergent paper :\"))\n",
    "    Delicassen=int(input(\"Enter annual spending on Delicassen :\"))\n",
    "    \n",
    "    # Creating Data point with user inputs\n",
    "    user_data=np.array[[Channel,Region,Fresh,Milk,Grocery,Frozen,Detergent_Paper,Delicassen]]\n",
    "    \n",
    "    #Standardize the user data\n",
    "    scaler=StandardScaler()\n",
    "    user_data_scaled=scaler.transform(user_data)\n",
    "    print(user_data)\n",
    "    \n",
    "    #Predict the cluster\n",
    "    cluster=Model.predict(user_data_scaled)\n",
    "#     return cluster[0]\n",
    "    "
   ]
  },
  {
   "cell_type": "code",
   "execution_count": 9,
   "id": "34996daa",
   "metadata": {},
   "outputs": [
    {
     "name": "stdout",
     "output_type": "stream",
     "text": [
      "Enter Channel (1,2) :1\n",
      "Enter Region (1,2,3) :3\n",
      "Enter annual spending on Fresh products :7568\n",
      "Enter annual spending on Milk :856\n",
      "Enter annual spending on Grocery :423\n",
      "Enter annual spending on Frozen products :864\n",
      "Enetr annual spending on Detergent paper :86\n",
      "Enter annual spending on Delicassen :7536\n"
     ]
    },
    {
     "ename": "TypeError",
     "evalue": "'builtin_function_or_method' object is not subscriptable",
     "output_type": "error",
     "traceback": [
      "\u001b[1;31m---------------------------------------------------------------------------\u001b[0m",
      "\u001b[1;31mTypeError\u001b[0m                                 Traceback (most recent call last)",
      "Cell \u001b[1;32mIn[9], line 2\u001b[0m\n\u001b[0;32m      1\u001b[0m \u001b[38;5;66;03m# Function call\u001b[39;00m\n\u001b[1;32m----> 2\u001b[0m get_customer_Segment()\n",
      "Cell \u001b[1;32mIn[8], line 14\u001b[0m, in \u001b[0;36mget_customer_Segment\u001b[1;34m()\u001b[0m\n\u001b[0;32m     11\u001b[0m Delicassen\u001b[38;5;241m=\u001b[39m\u001b[38;5;28mint\u001b[39m(\u001b[38;5;28minput\u001b[39m(\u001b[38;5;124m\"\u001b[39m\u001b[38;5;124mEnter annual spending on Delicassen :\u001b[39m\u001b[38;5;124m\"\u001b[39m))\n\u001b[0;32m     13\u001b[0m \u001b[38;5;66;03m# Creating Data point with user inputs\u001b[39;00m\n\u001b[1;32m---> 14\u001b[0m user_data\u001b[38;5;241m=\u001b[39mnp\u001b[38;5;241m.\u001b[39marray[[Channel,Region,Fresh,Milk,Grocery,Frozen,Detergent_Paper,Delicassen]]\n\u001b[0;32m     16\u001b[0m \u001b[38;5;66;03m#Standardize the user data\u001b[39;00m\n\u001b[0;32m     17\u001b[0m scaler\u001b[38;5;241m=\u001b[39mStandardScaler()\n",
      "\u001b[1;31mTypeError\u001b[0m: 'builtin_function_or_method' object is not subscriptable"
     ]
    }
   ],
   "source": [
    "# Function call\n",
    "get_customer_Segment()"
   ]
  }
 ],
 "metadata": {
  "kernelspec": {
   "display_name": "Python 3 (ipykernel)",
   "language": "python",
   "name": "python3"
  },
  "language_info": {
   "codemirror_mode": {
    "name": "ipython",
    "version": 3
   },
   "file_extension": ".py",
   "mimetype": "text/x-python",
   "name": "python",
   "nbconvert_exporter": "python",
   "pygments_lexer": "ipython3",
   "version": "3.11.5"
  }
 },
 "nbformat": 4,
 "nbformat_minor": 5
}
