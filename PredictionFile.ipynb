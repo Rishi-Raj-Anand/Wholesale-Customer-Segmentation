{
 "cells": [
  {
   "cell_type": "code",
   "execution_count": 14,
   "id": "ae4998e0",
   "metadata": {},
   "outputs": [],
   "source": [
    "import joblib\n",
    "import numpy as np\n",
    "import pandas as pd\n",
    "Model=joblib.load('Customer_Segmentation_Model.pkl')\n",
    "scaler=joblib.load('scaler.pkl')"
   ]
  },
  {
   "cell_type": "code",
   "execution_count": null,
   "id": "fdbed2b7",
   "metadata": {},
   "outputs": [],
   "source": [
    "# Function for finding customer segment\n",
    "def get_customer_Segment():\n",
    "    Channel=int(input(\"Enter Channel (1,2) :\"))\n",
    "    Region=int(input(\"Enter Region (1,2,3) :\"))\n",
    "    Fresh=int(input(\"Enter annual spending on Fresh products :\"))\n",
    "    Milk=int(input(\"Enter annual spending on Milk :\"))\n",
    "    Grocery=int(input(\"Enter annual spending on Grocery :\"))\n",
    "    Frozen=int(input(\"Enter annual spending on Frozen products :\"))\n",
    "    Detergents_Paper=int(input(\"Enetr annual spending on Detergent paper :\"))\n",
    "    Delicassen=int(input(\"Enter annual spending on Delicassen :\"))\n",
    "    \n",
    "    # Creating Data point with user inputs\n",
    "    user_data=np.array([[Channel,Region,Fresh,Milk,Grocery,Frozen,Detergents_Paper,Delicassen]])\n",
    "    user_data_df=pd.DataFrame([[Channel,Region,Fresh,Milk,Grocery,Frozen,Detergents_Paper,Delicassen]],columns=['Channel','Region','Fresh','Milk','Grocery','Frozen','Detergents_Paper','Delicassen'])\n",
    "    #Standardize the user data\n",
    "    user_data_scaled=scaler.transform(user_data_df)\n",
    "    #Predict the cluster\n",
    "    cluster=Model.predict(user_data_scaled)\n",
    "    return cluster[0]\n",
    "    "
   ]
  },
  {
   "cell_type": "code",
   "execution_count": 27,
   "id": "9a5bc079",
   "metadata": {},
   "outputs": [
    {
     "name": "stdout",
     "output_type": "stream",
     "text": [
      "Enter Channel (1,2) :1\n",
      "Enter Region (1,2,3) :3\n",
      "Enter annual spending on Fresh products :29703\n",
      "Enter annual spending on Milk :12051\n",
      "Enter annual spending on Grocery :16027\n",
      "Enter annual spending on Frozen products :13135\n",
      "Enetr annual spending on Detergent paper :182\n",
      "Enter annual spending on Delicassen :2204\n",
      "The Customer belongs to cluster :6\n"
     ]
    }
   ],
   "source": [
    "# Function call\n",
    "print(f\"The Customer belongs to cluster :{get_customer_Segment()}\")"
   ]
  }
 ],
 "metadata": {
  "kernelspec": {
   "display_name": "Python 3 (ipykernel)",
   "language": "python",
   "name": "python3"
  },
  "language_info": {
   "codemirror_mode": {
    "name": "ipython",
    "version": 3
   },
   "file_extension": ".py",
   "mimetype": "text/x-python",
   "name": "python",
   "nbconvert_exporter": "python",
   "pygments_lexer": "ipython3",
   "version": "3.11.5"
  }
 },
 "nbformat": 4,
 "nbformat_minor": 5
}
